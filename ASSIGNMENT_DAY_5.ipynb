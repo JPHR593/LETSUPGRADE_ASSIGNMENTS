{
  "nbformat": 4,
  "nbformat_minor": 0,
  "metadata": {
    "colab": {
      "name": "ASSIGNMENT_DAY-5.ipynb",
      "provenance": [],
      "collapsed_sections": [],
      "authorship_tag": "ABX9TyOd4YLBY03tRL9oEc3/0JYb",
      "include_colab_link": true
    },
    "kernelspec": {
      "name": "python3",
      "display_name": "Python 3"
    }
  },
  "cells": [
    {
      "cell_type": "markdown",
      "metadata": {
        "id": "view-in-github",
        "colab_type": "text"
      },
      "source": [
        "<a href=\"https://colab.research.google.com/github/JPHR593/LETSUPGRADE_ASSIGNMENTS/blob/master/ASSIGNMENT_DAY_5.ipynb\" target=\"_parent\"><img src=\"https://colab.research.google.com/assets/colab-badge.svg\" alt=\"Open In Colab\"/></a>"
      ]
    },
    {
      "cell_type": "markdown",
      "metadata": {
        "id": "zJSvaSi_SNAA",
        "colab_type": "text"
      },
      "source": [
        "1.Write a Python program to find the first 20 non-even prime natural numbers."
      ]
    },
    {
      "cell_type": "code",
      "metadata": {
        "id": "c0QCE9gfSndw",
        "colab_type": "code",
        "colab": {
          "base_uri": "https://localhost:8080/",
          "height": 370
        },
        "outputId": "9d78427c-85d3-4d6d-b570-b93a965e2878"
      },
      "source": [
        "count = 0\n",
        "for i in range(3,74):\n",
        "  for j in range(2,i): \n",
        "    if i % j==0: \n",
        "      break\n",
        "  else: \n",
        "    print(i)\n",
        "    count=count+1 \n",
        "print(\"Count = \",count)"
      ],
      "execution_count": 12,
      "outputs": [
        {
          "output_type": "stream",
          "text": [
            "3\n",
            "5\n",
            "7\n",
            "11\n",
            "13\n",
            "17\n",
            "19\n",
            "23\n",
            "29\n",
            "31\n",
            "37\n",
            "41\n",
            "43\n",
            "47\n",
            "53\n",
            "59\n",
            "61\n",
            "67\n",
            "71\n",
            "73\n",
            "Count =  20\n"
          ],
          "name": "stdout"
        }
      ]
    },
    {
      "cell_type": "markdown",
      "metadata": {
        "id": "Qw0Cl05jVBFA",
        "colab_type": "text"
      },
      "source": [
        "2.Write a Python program to implement 15 functions of string.\n"
      ]
    },
    {
      "cell_type": "code",
      "metadata": {
        "id": "CFDZISEVTetk",
        "colab_type": "code",
        "colab": {
          "base_uri": "https://localhost:8080/",
          "height": 286
        },
        "outputId": "6f4845ae-07e6-48b7-9738-84f98d3139c5"
      },
      "source": [
        "string = input(\"Enter the string:- \")\n",
        "print(len(string))\n",
        "print(string.upper())\n",
        "print(string.isupper())\n",
        "print(string.lower())\n",
        "print(string.islower())\n",
        "print(string.capitalize())\n",
        "print(string.index('h'))\n",
        "print(string.isalnum())\n",
        "print(string.isalpha())\n",
        "print(string.isdecimal())\n",
        "print(string.isdigit())\n",
        "print(string.find('o'))\n",
        "print(string.endswith('t'))\n",
        "print(string.count('l'))\n",
        "print(string.encode())"
      ],
      "execution_count": 24,
      "outputs": [
        {
          "output_type": "stream",
          "text": [
            "Enter the string:- hello world\n",
            "11\n",
            "HELLO WORLD\n",
            "False\n",
            "hello world\n",
            "True\n",
            "Hello world\n",
            "0\n",
            "False\n",
            "False\n",
            "False\n",
            "False\n",
            "4\n",
            "False\n",
            "3\n",
            "b'hello world'\n"
          ],
          "name": "stdout"
        }
      ]
    },
    {
      "cell_type": "markdown",
      "metadata": {
        "id": "PmA099FCX8Tb",
        "colab_type": "text"
      },
      "source": [
        "3.Write a Python program to check if the given string is a Palindrome or Anagram or None of them. Display\n",
        "the message accordingly to the user."
      ]
    },
    {
      "cell_type": "code",
      "metadata": {
        "id": "764KmTTpVXDf",
        "colab_type": "code",
        "colab": {
          "base_uri": "https://localhost:8080/",
          "height": 67
        },
        "outputId": "a0430eca-e772-4638-c2e7-9ac2059a4f3c"
      },
      "source": [
        "string1 = input(\"Enter the string:- \")\n",
        "string2 = input(\"Enter the string:- \")\n",
        "if string1 == string2[::-1]:\n",
        "  print(\"Its Palindrome\")\n",
        "elif sorted(string1)==sorted(string2):\n",
        "  print(\"Its Anagram\")\n",
        "else:\n",
        "  print(\"None of them\")"
      ],
      "execution_count": 33,
      "outputs": [
        {
          "output_type": "stream",
          "text": [
            "Enter the string:- reviver\n",
            "Enter the string:- reviver\n",
            "Its Palindrome\n"
          ],
          "name": "stdout"
        }
      ]
    },
    {
      "cell_type": "markdown",
      "metadata": {
        "id": "BJiwG-d-ZqEF",
        "colab_type": "text"
      },
      "source": [
        "4.Write a Python's user-defined function that removes all the additional characters from the string and\n",
        "convert it finally to lower case using built-in lower(). eg: If the string is \"Dr. Darshan Ingle @AIML Trainer\",\n",
        "then the output be \"drdarshaningleaimltrainer\"."
      ]
    },
    {
      "cell_type": "code",
      "metadata": {
        "id": "1FuwxDoxYmYt",
        "colab_type": "code",
        "colab": {
          "base_uri": "https://localhost:8080/",
          "height": 50
        },
        "outputId": "463b7c90-cf1b-4915-8670-08e6a99d3ce0"
      },
      "source": [
        "st = input(\"Enter a sentence\")\n",
        "def string_purifier(x):\n",
        "  x.strip()\n",
        "  #x.replace(\".\", \"\")\n",
        "  #x.replace(\"@\", \"\")\n",
        "  #x.replace(\",\", \"\")\n",
        "  x.lower()\n",
        "  return x\n",
        "\n",
        "print(string_purifier(st))"
      ],
      "execution_count": 41,
      "outputs": [
        {
          "output_type": "stream",
          "text": [
            "Enter a sentencehello world\n",
            "hello world\n"
          ],
          "name": "stdout"
        }
      ]
    },
    {
      "cell_type": "code",
      "metadata": {
        "id": "Rq9rWncwddrp",
        "colab_type": "code",
        "colab": {
          "base_uri": "https://localhost:8080/",
          "height": 330
        },
        "outputId": "f30637f2-3b5c-4036-83aa-b14b5124978d"
      },
      "source": [
        "import re\n",
        "st = input(\"Enter a sentence\")\n",
        "def string_purifier(x):\n",
        "  x = re.sub(\"\\s\", x)\n",
        "\n",
        "print(string_purifier(st))"
      ],
      "execution_count": 43,
      "outputs": [
        {
          "output_type": "stream",
          "text": [
            "Enter a sentencehello world\n"
          ],
          "name": "stdout"
        },
        {
          "output_type": "error",
          "ename": "TypeError",
          "evalue": "ignored",
          "traceback": [
            "\u001b[0;31m---------------------------------------------------------------------------\u001b[0m",
            "\u001b[0;31mTypeError\u001b[0m                                 Traceback (most recent call last)",
            "\u001b[0;32m<ipython-input-43-40bcec72c64e>\u001b[0m in \u001b[0;36m<module>\u001b[0;34m()\u001b[0m\n\u001b[1;32m      4\u001b[0m   \u001b[0mx\u001b[0m \u001b[0;34m=\u001b[0m \u001b[0mre\u001b[0m\u001b[0;34m.\u001b[0m\u001b[0msub\u001b[0m\u001b[0;34m(\u001b[0m\u001b[0;34m\"\\s\"\u001b[0m\u001b[0;34m,\u001b[0m \u001b[0mx\u001b[0m\u001b[0;34m)\u001b[0m\u001b[0;34m\u001b[0m\u001b[0;34m\u001b[0m\u001b[0m\n\u001b[1;32m      5\u001b[0m \u001b[0;34m\u001b[0m\u001b[0m\n\u001b[0;32m----> 6\u001b[0;31m \u001b[0mprint\u001b[0m\u001b[0;34m(\u001b[0m\u001b[0mstring_purifier\u001b[0m\u001b[0;34m(\u001b[0m\u001b[0mst\u001b[0m\u001b[0;34m)\u001b[0m\u001b[0;34m)\u001b[0m\u001b[0;34m\u001b[0m\u001b[0;34m\u001b[0m\u001b[0m\n\u001b[0m",
            "\u001b[0;32m<ipython-input-43-40bcec72c64e>\u001b[0m in \u001b[0;36mstring_purifier\u001b[0;34m(x)\u001b[0m\n\u001b[1;32m      2\u001b[0m \u001b[0mst\u001b[0m \u001b[0;34m=\u001b[0m \u001b[0minput\u001b[0m\u001b[0;34m(\u001b[0m\u001b[0;34m\"Enter a sentence\"\u001b[0m\u001b[0;34m)\u001b[0m\u001b[0;34m\u001b[0m\u001b[0;34m\u001b[0m\u001b[0m\n\u001b[1;32m      3\u001b[0m \u001b[0;32mdef\u001b[0m \u001b[0mstring_purifier\u001b[0m\u001b[0;34m(\u001b[0m\u001b[0mx\u001b[0m\u001b[0;34m)\u001b[0m\u001b[0;34m:\u001b[0m\u001b[0;34m\u001b[0m\u001b[0;34m\u001b[0m\u001b[0m\n\u001b[0;32m----> 4\u001b[0;31m   \u001b[0mx\u001b[0m \u001b[0;34m=\u001b[0m \u001b[0mre\u001b[0m\u001b[0;34m.\u001b[0m\u001b[0msub\u001b[0m\u001b[0;34m(\u001b[0m\u001b[0;34m\"\\s\"\u001b[0m\u001b[0;34m,\u001b[0m \u001b[0mx\u001b[0m\u001b[0;34m)\u001b[0m\u001b[0;34m\u001b[0m\u001b[0;34m\u001b[0m\u001b[0m\n\u001b[0m\u001b[1;32m      5\u001b[0m \u001b[0;34m\u001b[0m\u001b[0m\n\u001b[1;32m      6\u001b[0m \u001b[0mprint\u001b[0m\u001b[0;34m(\u001b[0m\u001b[0mstring_purifier\u001b[0m\u001b[0;34m(\u001b[0m\u001b[0mst\u001b[0m\u001b[0;34m)\u001b[0m\u001b[0;34m)\u001b[0m\u001b[0;34m\u001b[0m\u001b[0;34m\u001b[0m\u001b[0m\n",
            "\u001b[0;31mTypeError\u001b[0m: sub() missing 1 required positional argument: 'string'"
          ]
        }
      ]
    },
    {
      "cell_type": "code",
      "metadata": {
        "id": "nIsW2FJMebcr",
        "colab_type": "code",
        "colab": {
          "base_uri": "https://localhost:8080/",
          "height": 50
        },
        "outputId": "13049e57-1dd1-4268-f5dc-ecc83c2a6b2e"
      },
      "source": [
        "import re\n",
        "st = input(\"Enter the string:-\")\n",
        "def remove(s):\n",
        "  s = s.lower()\n",
        "  s = s.replace('@','')\n",
        "  s = s.replace('.','')\n",
        "  s = s.replace('!','')\n",
        "  s = s.replace(',','')\n",
        "  print(re.sub(r\"\\s+\", \"\", s), sep='')\n",
        "\n",
        "remove(st)"
      ],
      "execution_count": 53,
      "outputs": [
        {
          "output_type": "stream",
          "text": [
            "Enter the string:-Dr. Darshan Ingle @AIML Trainer\n",
            "drdarshaningleaimltrainer\n"
          ],
          "name": "stdout"
        }
      ]
    }
  ]
}