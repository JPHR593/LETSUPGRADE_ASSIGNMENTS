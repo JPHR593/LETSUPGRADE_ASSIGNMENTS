{
  "nbformat": 4,
  "nbformat_minor": 0,
  "metadata": {
    "colab": {
      "name": "LU_ASSIGNMENT-1.ipynb",
      "provenance": [],
      "collapsed_sections": [],
      "authorship_tag": "ABX9TyPs1lL6f9dwS4BZt7oAkml6",
      "include_colab_link": true
    },
    "kernelspec": {
      "name": "python3",
      "display_name": "Python 3"
    }
  },
  "cells": [
    {
      "cell_type": "markdown",
      "metadata": {
        "id": "view-in-github",
        "colab_type": "text"
      },
      "source": [
        "<a href=\"https://colab.research.google.com/github/JPHR593/LETSUPGRADE_ASSIGNMENTS/blob/master/LU_ASSIGNMENT_1.ipynb\" target=\"_parent\"><img src=\"https://colab.research.google.com/assets/colab-badge.svg\" alt=\"Open In Colab\"/></a>"
      ]
    },
    {
      "cell_type": "markdown",
      "metadata": {
        "id": "bSuUaRTiRCyf",
        "colab_type": "text"
      },
      "source": [
        "**ASSIGNMENT-1**"
      ]
    },
    {
      "cell_type": "markdown",
      "metadata": {
        "id": "8amFNnccKYUg",
        "colab_type": "text"
      },
      "source": [
        "1.Write a program to subtract two complex numbers in Python"
      ]
    },
    {
      "cell_type": "code",
      "metadata": {
        "id": "eQtI-NcjKSFJ",
        "colab_type": "code",
        "colab": {
          "base_uri": "https://localhost:8080/",
          "height": 67
        },
        "outputId": "d10efdf4-488a-4e6a-82b0-5477bbcffeff"
      },
      "source": [
        "x = complex(input(\"Enter a complex number\"))\n",
        "y = complex(input(\"Enter a complex number\"))\n",
        "print( \"Addtion is : \", (x)+(y))"
      ],
      "execution_count": null,
      "outputs": [
        {
          "output_type": "stream",
          "text": [
            "Enter a complex number2+3j\n",
            "Enter a complex number4+5j\n",
            "Addtion is :  (6+8j)\n"
          ],
          "name": "stdout"
        }
      ]
    },
    {
      "cell_type": "markdown",
      "metadata": {
        "id": "G9hXk1yUMIde",
        "colab_type": "text"
      },
      "source": [
        "2.Write a program to find the fourth root of a number."
      ]
    },
    {
      "cell_type": "code",
      "metadata": {
        "id": "rCHhPvrAMMOg",
        "colab_type": "code",
        "colab": {
          "base_uri": "https://localhost:8080/",
          "height": 50
        },
        "outputId": "de989733-b029-46ed-a4cc-c24d913212b1"
      },
      "source": [
        "import math \n",
        "import random \n",
        "\n",
        "def nthRoot(A,N): \n",
        "    xPre = random.randint(1,101) % 10\n",
        "    eps = 0.001\n",
        "    delX = 2147483647\n",
        "    xK=0.0\n",
        "\n",
        "    while (delX > eps): \n",
        "        xK = ((N - 1.0) * xPre + A/pow(xPre, N-1)) /N \n",
        "        delX = abs(xK - xPre) \n",
        "        xPre = xK;           \n",
        "    return int(xK) \n",
        "\n",
        "N = 4\n",
        "A = int(input(\"Enter a number\"))\n",
        "nthRootValue = nthRoot(A, N) \n",
        "  \n",
        "print(\"Nth root is \", nthRootValue) "
      ],
      "execution_count": 3,
      "outputs": [
        {
          "output_type": "stream",
          "text": [
            "Enter a number16\n",
            "Nth root is  2\n"
          ],
          "name": "stdout"
        }
      ]
    },
    {
      "cell_type": "markdown",
      "metadata": {
        "id": "N9pBzSBjMfOO",
        "colab_type": "text"
      },
      "source": [
        "3.Write a program to swap two numbers in Python with the help of a temporary variable."
      ]
    },
    {
      "cell_type": "code",
      "metadata": {
        "id": "_aC2ufclMgOH",
        "colab_type": "code",
        "colab": {
          "base_uri": "https://localhost:8080/",
          "height": 84
        },
        "outputId": "c56b7aa1-782f-4b2a-b352-0ea13a7fd682"
      },
      "source": [
        "x = int(input(\"Enter a number\"))\n",
        "y = int(input(\"Enter a number\"))\n",
        "print(\"The x and y values before swapping are\",x , y)\n",
        "a = x\n",
        "x = y\n",
        "y = a\n",
        "print(\"The x and y values after swapping are\",x , y)"
      ],
      "execution_count": null,
      "outputs": [
        {
          "output_type": "stream",
          "text": [
            "Enter a number2\n",
            "Enter a number3\n",
            "The x and y values before swapping are 2 3\n",
            "The x and y values after swapping are 3 2\n"
          ],
          "name": "stdout"
        }
      ]
    },
    {
      "cell_type": "markdown",
      "metadata": {
        "id": "FVX24tIMNOht",
        "colab_type": "text"
      },
      "source": [
        "4.Write a program to swap two numbers in Python without using a temporary variable."
      ]
    },
    {
      "cell_type": "code",
      "metadata": {
        "id": "rUobDsMJNItD",
        "colab_type": "code",
        "colab": {
          "base_uri": "https://localhost:8080/",
          "height": 84
        },
        "outputId": "eff25af6-c509-435a-c7b9-710d9972c70d"
      },
      "source": [
        "x = int(input(\"Enter a number\"))\n",
        "y = int(input(\"Enter a number\"))\n",
        "print(\"The x and y values before swapping are\",x , y)\n",
        "x ,y = y, x\n",
        "print(\"The x and y values after swapping are\",x , y)"
      ],
      "execution_count": null,
      "outputs": [
        {
          "output_type": "stream",
          "text": [
            "Enter a number2\n",
            "Enter a number3\n",
            "The x and y values before swapping are 2 3\n",
            "The x and y values after swapping are 3 2\n"
          ],
          "name": "stdout"
        }
      ]
    },
    {
      "cell_type": "markdown",
      "metadata": {
        "id": "UgkcnshAOFqn",
        "colab_type": "text"
      },
      "source": [
        "5.Write a program to convert Fahrenheit to kelvin and celsius both."
      ]
    },
    {
      "cell_type": "code",
      "metadata": {
        "id": "pIHPVj80N918",
        "colab_type": "code",
        "colab": {
          "base_uri": "https://localhost:8080/",
          "height": 67
        },
        "outputId": "fd37b172-2e82-460c-ee63-a0897a8a92eb"
      },
      "source": [
        "fah = float(input(\"Enter the temperature in Fahrenheit \"))\n",
        "celsius = (fah-32)/1.8;\n",
        "kelvin = 273.5 + ((fah - 32.0) * (5.0/9.0)) \n",
        "print(\"The temperature in Celcius is = {:.3f}\".format(celsius))\n",
        "print(\"The temperature in Kelvin is = {:.3f}\".format(kelvin))"
      ],
      "execution_count": null,
      "outputs": [
        {
          "output_type": "stream",
          "text": [
            "Enter the temperature in Fahrenheit 100\n",
            "The temperature in Celcius is = 37.778\n",
            "The temperature in Kelvin is = 311.278\n"
          ],
          "name": "stdout"
        }
      ]
    },
    {
      "cell_type": "markdown",
      "metadata": {
        "id": "LJ4knbM8PXD6",
        "colab_type": "text"
      },
      "source": [
        "6.Write a program to demonstrate all the available data types in Python. Hint: Use type() function."
      ]
    },
    {
      "cell_type": "code",
      "metadata": {
        "id": "OgnkU1a9O1nn",
        "colab_type": "code",
        "colab": {
          "base_uri": "https://localhost:8080/",
          "height": 168
        },
        "outputId": "a65afa24-eef9-4ce2-996c-c081d448aaeb"
      },
      "source": [
        "x = \"Hello Team\"\n",
        "y = True\n",
        "z = 13\n",
        "a = 13.0\n",
        "b = [1,2,3,4]\n",
        "c = 2+3j\n",
        "d = (1,2,3)\n",
        "e = dict(name=\"Jishnu\",ID=593)\n",
        "f= set((1,2,3))\n",
        "print(type(x))\n",
        "print(type(y))\n",
        "print(type(z))\n",
        "print(type(a))\n",
        "print(type(b))\n",
        "print(type(c))\n",
        "print(type(d))\n",
        "print(type(e))\n",
        "print(type(f))"
      ],
      "execution_count": null,
      "outputs": [
        {
          "output_type": "stream",
          "text": [
            "<class 'str'>\n",
            "<class 'bool'>\n",
            "<class 'int'>\n",
            "<class 'float'>\n",
            "<class 'list'>\n",
            "<class 'complex'>\n",
            "<class 'tuple'>\n",
            "<class 'dict'>\n",
            "<class 'set'>\n"
          ],
          "name": "stdout"
        }
      ]
    },
    {
      "cell_type": "markdown",
      "metadata": {
        "id": "fKZlBHMsRZOc",
        "colab_type": "text"
      },
      "source": [
        "7.Create a Markdown cell in Jupyter and list the steps discussed in the session by Dr. Darshan\n",
        "Ingle sir to create a Github profile and upload the Githubs Assignment link."
      ]
    },
    {
      "cell_type": "markdown",
      "metadata": {
        "id": "D6QciGJCUwQE",
        "colab_type": "text"
      },
      "source": [
        "**STEPS**\n",
        "\n",
        "**Step-1** = Go to github.com\n",
        "\n",
        "**Step-2** = Create an account using mail id\n",
        "\n",
        "**Step-3** = Once we have created the account,Click on create repository->Give a name and then make sure the repository is public and click on add readme file and then click on create repository\n",
        "\n",
        "**Step-4** = Once the repository is created , Go back to google colab and click on file and then click on save a copy in github(If you are using this option for the first time then it may ask u to authenticate your github account,After successful authentication,click on save a copy in github).After saving it colab redirects you to github repository where your file is saved."
      ]
    }
  ]
}